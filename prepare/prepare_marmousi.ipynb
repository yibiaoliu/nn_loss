{
 "cells": [
  {
   "cell_type": "code",
   "id": "initial_id",
   "metadata": {
    "collapsed": true,
    "ExecuteTime": {
     "end_time": "2025-07-13T02:01:01.959019Z",
     "start_time": "2025-07-13T02:01:01.955650Z"
    }
   },
   "source": [
    "import torch\n",
    "import deepwave\n",
    "import numpy as np\n",
    "from omegaconf import OmegaConf\n",
    "from scipy.ndimage import gaussian_filter"
   ],
   "outputs": [],
   "execution_count": 5
  },
  {
   "metadata": {},
   "cell_type": "markdown",
   "source": "# 设置config文件路径",
   "id": "7c728abf4519795e"
  },
  {
   "metadata": {
    "ExecuteTime": {
     "end_time": "2025-07-13T02:01:03.730551Z",
     "start_time": "2025-07-13T02:01:03.719299Z"
    }
   },
   "cell_type": "code",
   "source": [
    "config_path = \"../config/template.yaml\"\n",
    "cfg = OmegaConf.load(config_path)"
   ],
   "id": "acab6c929819755",
   "outputs": [],
   "execution_count": 6
  },
  {
   "metadata": {
    "ExecuteTime": {
     "end_time": "2025-07-13T02:01:04.956585Z",
     "start_time": "2025-07-13T02:01:04.942882Z"
    }
   },
   "cell_type": "code",
   "source": [
    "#==========================二次设置部分================================================\n",
    "n_shots = 34\n",
    "src_depth = 2\n",
    "first_src =  0\n",
    "d_src = 20\n",
    "\n",
    "n_recs = 340\n",
    "rec_depth = 4\n",
    "first_rec = 0\n",
    "d_rcv = 2\n",
    "#============================================================================\n",
    "src_loc = np.zeros([n_shots,1,2])\n",
    "src_loc[:,0,0] = np.arange(n_shots) * d_src + first_src\n",
    "src_loc[:,0,1] = src_depth\n",
    "rec_loc = np.zeros([n_shots,n_recs,2])\n",
    "rec_loc[:,:,0] = np.tile((np.arange(n_recs)*d_rcv+first_rec),(n_shots,1))\n",
    "rec_loc[:,:,1]=rec_depth\n",
    "src_loc_path = cfg.forward_par.src_loc_path\n",
    "rec_loc_path = cfg.forward_par.rec_loc_path\n",
    "np.save(src_loc_path,src_loc)\n",
    "np.save(rec_loc_path,rec_loc)\n",
    "src_loc = torch.from_numpy(src_loc).float()\n",
    "rec_loc = torch.from_numpy(rec_loc).float()\n"
   ],
   "id": "eca6d9d536cd0697",
   "outputs": [],
   "execution_count": 7
  },
  {
   "metadata": {},
   "cell_type": "markdown",
   "source": "# 设置地震子波函数",
   "id": "fac5fc77eede8668"
  },
  {
   "metadata": {
    "ExecuteTime": {
     "end_time": "2025-07-13T02:01:06.093228Z",
     "start_time": "2025-07-13T02:01:06.081346Z"
    }
   },
   "cell_type": "code",
   "source": [
    "#===================================二次设置部分================================================\n",
    "freq = 10\n",
    "nt = 2048\n",
    "peak_time = 1.5 / freq\n",
    "dt = cfg.forward_par.dt\n",
    "\n",
    "#=============================================================================================\n",
    "wavelet = np.array(deepwave.wavelets.ricker(freq, nt, dt, peak_time)).reshape(1,1,-1)\n",
    "wavelet = wavelet.repeat(n_shots,axis=0)\n",
    "wavelet_path = cfg.forward_par.wavelet_path\n",
    "np.save(wavelet_path,wavelet)\n",
    "wavelet = torch.from_numpy(wavelet).float()"
   ],
   "id": "6c3428d42b9fd2e0",
   "outputs": [
    {
     "name": "stderr",
     "output_type": "stream",
     "text": [
      "/tmp/ipykernel_6191/701918878.py:8: DeprecationWarning: __array__ implementation doesn't accept a copy keyword, so passing copy=False failed. __array__ must implement 'dtype' and 'copy' keyword arguments. To learn more, see the migration guide https://numpy.org/devdocs/numpy_2_0_migration_guide.html#adapting-to-changes-in-the-copy-keyword\n",
      "  wavelet = np.array(deepwave.wavelets.ricker(freq, nt, dt, peak_time)).reshape(1,1,-1)\n"
     ]
    }
   ],
   "execution_count": 8
  },
  {
   "metadata": {},
   "cell_type": "markdown",
   "source": "# 设置初始模型与观测数据",
   "id": "288adfc743d46467"
  },
  {
   "metadata": {
    "ExecuteTime": {
     "end_time": "2025-07-13T02:01:14.265513Z",
     "start_time": "2025-07-13T02:01:08.450677Z"
    }
   },
   "cell_type": "code",
   "source": [
    "#===========================二次设置部分==========================================\n",
    "init_smooth = 50\n",
    "#===============================================================================\n",
    "obs_signal_path = cfg.generate_par.obs_signal_path\n",
    "vp_true_path = cfg.forward_par.vp_true_path\n",
    "vp_init_path =  cfg.forward_par.vp_init_path\n",
    "vp_true = np.load(vp_true_path)\n",
    "vp_init = 1/gaussian_filter(1/vp_true,init_smooth)\n",
    "obs_signal = deepwave.scalar(torch.from_numpy(vp_true).float(), source_amplitudes=wavelet,source_locations=src_loc,receiver_locations=rec_loc,grid_spacing=cfg.forward_par.grid_spacing,dt=cfg.forward_par.dt,max_vel=cfg.forward_par.max_vel,pml_width=OmegaConf.to_object(cfg.forward_par.pml_width))[-1]\n",
    "\n",
    "np.save(obs_signal_path,obs_signal)\n",
    "np.save(vp_init_path,vp_init)\n"
   ],
   "id": "61c6e74bfd8ed37d",
   "outputs": [],
   "execution_count": 9
  }
 ],
 "metadata": {
  "kernelspec": {
   "display_name": "Python 3",
   "language": "python",
   "name": "python3"
  },
  "language_info": {
   "codemirror_mode": {
    "name": "ipython",
    "version": 2
   },
   "file_extension": ".py",
   "mimetype": "text/x-python",
   "name": "python",
   "nbconvert_exporter": "python",
   "pygments_lexer": "ipython2",
   "version": "2.7.6"
  }
 },
 "nbformat": 4,
 "nbformat_minor": 5
}
