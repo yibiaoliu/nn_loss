{
 "cells": [
  {
   "cell_type": "code",
   "id": "initial_id",
   "metadata": {
    "collapsed": true,
    "ExecuteTime": {
     "end_time": "2025-09-01T08:50:14.567941Z",
     "start_time": "2025-09-01T08:50:14.555951Z"
    }
   },
   "source": [
    "import torch\n",
    "import deepwave\n",
    "import numpy as np\n",
    "from omegaconf import OmegaConf\n",
    "from pyexpat import features\n",
    "\n",
    "import matplotlib.pyplot as plt\n",
    "from soupsieve.util import lower\n",
    "from utils import *\n",
    "from einops import rearrange\n",
    "from omegaconf import OmegaConf\n",
    "from utils.utils_plot import plot_model,plot_shot\n",
    "import  torch\n",
    "import  numpy as np\n",
    "from utils import make_and_load_model"
   ],
   "outputs": [],
   "execution_count": 59
  },
  {
   "metadata": {},
   "cell_type": "markdown",
   "source": "# 设置config文件路径",
   "id": "c7c8c1d8ede106be"
  },
  {
   "metadata": {
    "ExecuteTime": {
     "end_time": "2025-09-01T08:50:16.946941Z",
     "start_time": "2025-09-01T08:50:16.915338Z"
    }
   },
   "cell_type": "code",
   "source": [
    "config_path = \"../config/template_he.yaml\"\n",
    "cfg = OmegaConf.load(config_path)"
   ],
   "id": "a2b24cc783d70987",
   "outputs": [],
   "execution_count": 60
  },
  {
   "metadata": {},
   "cell_type": "markdown",
   "source": "# 设置loc",
   "id": "11a7bdb788462346"
  },
  {
   "metadata": {
    "ExecuteTime": {
     "end_time": "2025-09-01T08:50:17.940806Z",
     "start_time": "2025-09-01T08:50:17.927685Z"
    }
   },
   "cell_type": "code",
   "source": [
    "dx = 50\n",
    "n_shots = 140\n",
    "src_depth = 50 / 50\n",
    "first_src =  200 / 50\n",
    "d_src = 125 / 50\n",
    "\n",
    "n_recs = 474\n",
    "rec_depth = 6 / 50\n",
    "first_rec = 12.5 / 50\n",
    "d_rcv = 37.5 / 50\n",
    "#============================================================================\n",
    "src_loc = np.zeros([n_shots,1,2])\n",
    "src_loc[:,0,0] = np.arange(n_shots) * d_src + first_src\n",
    "src_loc[:,0,1] = src_depth\n",
    "rec_loc = np.zeros([n_shots,n_recs,2])\n",
    "rec_loc[:,:,0] = np.tile((np.arange(n_recs)*d_rcv+first_rec),(n_shots,1))\n",
    "rec_loc[:,:,1]=rec_depth\n",
    "src_loc_path = cfg.forward_par.src_loc_path\n",
    "rec_loc_path = cfg.forward_par.rec_loc_path\n",
    "np.save(src_loc_path,src_loc)\n",
    "np.save(rec_loc_path,rec_loc)\n",
    "src_loc = torch.from_numpy(src_loc).float()\n",
    "rec_loc = torch.from_numpy(rec_loc).float()"
   ],
   "id": "504709947283a474",
   "outputs": [],
   "execution_count": 61
  },
  {
   "metadata": {},
   "cell_type": "markdown",
   "source": "# 设置地震子波",
   "id": "d83902122451cbad"
  },
  {
   "metadata": {
    "ExecuteTime": {
     "end_time": "2025-09-01T08:50:19.352648Z",
     "start_time": "2025-09-01T08:50:19.343559Z"
    }
   },
   "cell_type": "code",
   "source": [
    "with open('/data/yibiao/nn_loss/experiments/he/st.1.5-4.0', 'rb') as f:\n",
    "    wavelet = np.fromfile(f, dtype=np.float32).reshape(1,1,-1)\n",
    "wavelet = wavelet.repeat(n_shots,axis=0)\n",
    "wavelet_path = cfg.forward_par.wavelet_path\n",
    "np.save(wavelet_path,wavelet)\n",
    "wavelet = torch.from_numpy(wavelet).float()"
   ],
   "id": "49ae393e60816654",
   "outputs": [],
   "execution_count": 62
  },
  {
   "metadata": {},
   "cell_type": "markdown",
   "source": "# 设置初始模型以及观测数据",
   "id": "b9ad786f8b8bfb84"
  },
  {
   "metadata": {
    "ExecuteTime": {
     "end_time": "2025-09-01T08:50:35.953574Z",
     "start_time": "2025-09-01T08:50:20.498191Z"
    }
   },
   "cell_type": "code",
   "source": [
    "vp_true = np.fromfile('/data/yibiao/nn_loss/experiments/he/vp.true', dtype=np.float32).reshape(nx, nz)\n",
    "vp_init = np.fromfile('/data/yibiao/nn_loss/experiments/he/vp.zero', dtype=np.float32).reshape(nx, nz)\n",
    "\n",
    "obs_signal = deepwave.scalar(torch.from_numpy(vp_true).float(), source_amplitudes=wavelet,source_locations=src_loc,receiver_locations=rec_loc,grid_spacing=cfg.forward_par.grid_spacing,dt=cfg.forward_par.dt,max_vel=cfg.forward_par.max_vel,pml_width=OmegaConf.to_object(cfg.forward_par.pml_width))[-1]\n",
    "\n",
    "obs_signal_path = cfg.generate_par.obs_signal_path\n",
    "vp_true_path = cfg.forward_par.vp_true_path\n",
    "vp_init_path =  cfg.forward_par.vp_init_path\n",
    "\n",
    "np.save(obs_signal_path,obs_signal)\n",
    "np.save(vp_init_path,vp_init)\n",
    "np.save(vp_true_path,vp_true)\n",
    "\n"
   ],
   "id": "b75a4c4e1e369b0c",
   "outputs": [],
   "execution_count": 63
  },
  {
   "metadata": {},
   "cell_type": "code",
   "outputs": [],
   "execution_count": null,
   "source": "",
   "id": "9dbc7bd95b8abc9b"
  }
 ],
 "metadata": {
  "kernelspec": {
   "display_name": "Python 3",
   "language": "python",
   "name": "python3"
  },
  "language_info": {
   "codemirror_mode": {
    "name": "ipython",
    "version": 2
   },
   "file_extension": ".py",
   "mimetype": "text/x-python",
   "name": "python",
   "nbconvert_exporter": "python",
   "pygments_lexer": "ipython2",
   "version": "2.7.6"
  }
 },
 "nbformat": 4,
 "nbformat_minor": 5
}
